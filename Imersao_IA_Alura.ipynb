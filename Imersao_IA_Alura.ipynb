{
  "nbformat": 4,
  "nbformat_minor": 0,
  "metadata": {
    "colab": {
      "provenance": [],
      "authorship_tag": "ABX9TyNypExIsh1cxZB/DULZgYl+",
      "include_colab_link": true
    },
    "kernelspec": {
      "name": "python3",
      "display_name": "Python 3"
    },
    "language_info": {
      "name": "python"
    }
  },
  "cells": [
    {
      "cell_type": "markdown",
      "metadata": {
        "id": "view-in-github",
        "colab_type": "text"
      },
      "source": [
        "<a href=\"https://colab.research.google.com/github/viscaino/Imersao_IA_Alura/blob/main/Imersao_IA_Alura.ipynb\" target=\"_parent\"><img src=\"https://colab.research.google.com/assets/colab-badge.svg\" alt=\"Open In Colab\"/></a>"
      ]
    },
    {
      "cell_type": "code",
      "source": [
        "# Instalando o Google API\n",
        "pip install -q -U google-generativeai"
      ],
      "metadata": {
        "id": "r5QuxAKFZtzL"
      },
      "execution_count": 2,
      "outputs": []
    },
    {
      "cell_type": "code",
      "source": [
        "# Importando Python SDK\n",
        "import google.generativeai as genai\n",
        "\n",
        "# Configurando a API key\n",
        "# !! IMPORTANTE: Neste código estamos utilizando\n",
        "# o userdata cadastrado no Google Colab.\n",
        "from google.colab import userdata\n",
        "\n",
        "GOOGLE_API_KEY=userdata.get('GOOGLE_API_KEY')\n",
        "genai.configure(api_key=GOOGLE_API_KEY)"
      ],
      "metadata": {
        "id": "ecrPPaXjZ5DC"
      },
      "execution_count": 10,
      "outputs": []
    },
    {
      "cell_type": "code",
      "source": [
        "# Selecionando o Modelo\n",
        "model = genai.GenerativeModel('gemini-pro')"
      ],
      "metadata": {
        "id": "D8TunJk5bQ5g"
      },
      "execution_count": 15,
      "outputs": []
    },
    {
      "cell_type": "code",
      "source": [
        "response = model.generate_content(\"Write a story about a magic backpack.\")\n",
        "print(response.text)"
      ],
      "metadata": {
        "colab": {
          "base_uri": "https://localhost:8080/",
          "height": 326
        },
        "id": "D-EKYLIDcF5S",
        "outputId": "86f8ecfd-cab2-4c68-b2c1-283ac493959b"
      },
      "execution_count": 16,
      "outputs": [
        {
          "output_type": "stream",
          "name": "stdout",
          "text": [
            "In the bustling streets of Willow Creek, amidst the vibrant chatter and the aroma of freshly brewed coffee, there lay a nondescript backpack, its worn exterior concealing a secret that would forever alter the life of its young owner.\n",
            "\n",
            "Emily, a bright and curious eighth-grader, had found the backpack abandoned on a bench outside the local library. Intrigued by its unusual shape and the faint glow emanating from within, she couldn't resist taking it home. As she unzipped the main compartment, a surge of energy coursed through her body, and a shimmering portal appeared before her.\n",
            "\n",
            "Hesitantly, Emily stepped through the portal and found herself transported to a realm of wonder and enchantment. Lush meadows stretched out before her, dotted with vibrant wildflowers and tall, swaying trees. The air was alive with the sound of birdsong and the gentle breeze carried the scent of blooming lilacs.\n",
            "\n",
            "Emily realized that the backpack was more than just a bag; it was a magical vessel that granted her the power to travel to any place she could imagine. Overwhelmed with excitement, she decided to explore the unknown.\n",
            "\n",
            "Her first journey took her to the ancient city of Alexandria, where she marveled at the towering pillars of the Great Library and delved into the wisdom of its countless scrolls. Next, she soared through the skies on the back of a majestic griffon, witnessing breathtaking views of snow-capped mountains and sparkling seas.\n",
            "\n",
            "As Emily's adventures continued, she encountered enigmatic creatures and formed unlikely friendships. She befriended a wise old tree spirit, who shared ancient secrets with her, and a mischievous elf who taught her the art of illusion.\n",
            "\n",
            "However, with great power came great responsibility. Emily soon discovered that the backpack's magic could be used for both good and evil. One day, she stumbled upon a group of greedy thieves plotting to steal a priceless artifact. Summoning her courage, she used the backpack's portal to transport the stolen item to a safe place.\n",
            "\n",
            "News of Emily's heroic act spread far and wide. She became known as the guardian of the mystical backpack, using its power to protect the innocent and preserve the balance between worlds.\n",
            "\n",
            "And so, the nondescript backpack from Willow Creek became a symbol of hope and adventure, its magic shaping the destiny of Emily and countless others who dared to dream beyond the ordinary.\n"
          ]
        }
      ]
    }
  ]
}