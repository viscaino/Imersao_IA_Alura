{
  "nbformat": 4,
  "nbformat_minor": 0,
  "metadata": {
    "colab": {
      "provenance": [],
      "authorship_tag": "ABX9TyPUSBa0E57R+vlEglG4dVym",
      "include_colab_link": true
    },
    "kernelspec": {
      "name": "python3",
      "display_name": "Python 3"
    },
    "language_info": {
      "name": "python"
    }
  },
  "cells": [
    {
      "cell_type": "markdown",
      "metadata": {
        "id": "view-in-github",
        "colab_type": "text"
      },
      "source": [
        "<a href=\"https://colab.research.google.com/github/viscaino/Imersao_IA_Alura/blob/main/Imersao_IA_Alura.ipynb\" target=\"_parent\"><img src=\"https://colab.research.google.com/assets/colab-badge.svg\" alt=\"Open In Colab\"/></a>"
      ]
    },
    {
      "cell_type": "code",
      "execution_count": 3,
      "metadata": {
        "colab": {
          "base_uri": "https://localhost:8080/"
        },
        "id": "vD9CvsPdjHV4",
        "outputId": "d9ef9327-67e7-4d48-8bbb-5ba770d9cf26"
      },
      "outputs": [
        {
          "output_type": "stream",
          "name": "stdout",
          "text": [
            "Digite a operação desejada (+, -, *, /): +\n",
            "Digite o primeiro número: 1\n",
            "Digite o segundo número: 2\n",
            "O resultado da operação 1.0 + 2.0 é: 3.0\n"
          ]
        }
      ],
      "source": [
        "def calculadora_simples():\n",
        "  \"\"\"\n",
        "  Função que implementa uma calculadora simples com as operações básicas: adição, subtração, multiplicação e divisão.\n",
        "\n",
        "  Argumentos:\n",
        "    Nenhum.\n",
        "\n",
        "  Retorno:\n",
        "    Nenhum. A função imprime o resultado da operação na tela.\n",
        "  \"\"\"\n",
        "\n",
        "  # Solicita ao usuário que escolha a operação desejada\n",
        "  operacao = input(\"Digite a operação desejada (+, -, *, /): \")\n",
        "\n",
        "  # Solicita ao usuário que digite os dois números para a operação\n",
        "  numero1 = float(input(\"Digite o primeiro número: \"))\n",
        "  numero2 = float(input(\"Digite o segundo número: \"))\n",
        "\n",
        "  # Realiza a operação matemática de acordo com a escolha do usuário\n",
        "  if operacao == \"+\":\n",
        "    resultado = numero1 + numero2\n",
        "  elif operacao == \"-\":\n",
        "    resultado = numero1 - numero2\n",
        "  elif operacao == \"*\":\n",
        "    resultado = numero1 * numero2\n",
        "  elif operacao == \"/\":\n",
        "    resultado = numero1 / numero2\n",
        "  else:\n",
        "    print(\"Operação inválida!\")\n",
        "    return\n",
        "\n",
        "  # Imprime o resultado da operação na tela\n",
        "  print(f\"O resultado da operação {numero1} {operacao} {numero2} é: {resultado}\")\n",
        "\n",
        "# Chama a função calculadora_simples() para executar a calculadora\n",
        "calculadora_simples()"
      ]
    },
    {
      "cell_type": "code",
      "source": [
        "print (\"Hello World\")\n"
      ],
      "metadata": {
        "colab": {
          "base_uri": "https://localhost:8080/"
        },
        "id": "dlj_LZy4nX-g",
        "outputId": "505e3ac9-3b61-48f2-9590-891960bda254"
      },
      "execution_count": 5,
      "outputs": [
        {
          "output_type": "stream",
          "name": "stdout",
          "text": [
            "Hello World\n"
          ]
        }
      ]
    }
  ]
}