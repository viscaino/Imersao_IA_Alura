{
  "nbformat": 4,
  "nbformat_minor": 0,
  "metadata": {
    "colab": {
      "provenance": [],
      "authorship_tag": "ABX9TyN3wnKIZ1ELSwsXFWGJ8NUR",
      "include_colab_link": true
    },
    "kernelspec": {
      "name": "python3",
      "display_name": "Python 3"
    },
    "language_info": {
      "name": "python"
    }
  },
  "cells": [
    {
      "cell_type": "markdown",
      "metadata": {
        "id": "view-in-github",
        "colab_type": "text"
      },
      "source": [
        "<a href=\"https://colab.research.google.com/github/viscaino/Imersao_IA_Alura/blob/main/Chat_de_Intera%C3%A7%C3%A3o.ipynb\" target=\"_parent\"><img src=\"https://colab.research.google.com/assets/colab-badge.svg\" alt=\"Open In Colab\"/></a>"
      ]
    },
    {
      "cell_type": "code",
      "execution_count": 5,
      "metadata": {
        "id": "PxRTqc_n42KM"
      },
      "outputs": [],
      "source": [
        "pip install -q -U google-generativeai"
      ]
    },
    {
      "cell_type": "code",
      "source": [
        "import google.generativeai as genai\n",
        "\n",
        "#Configurando a API key:\n",
        "#IMPORTANTE: Neste código estamos utilizando\n",
        "#o userdata cadastrado no Google Colab.\n",
        "from google.colab import userdata\n",
        "\n",
        "GOOGLE_API_KEY=userdata.get('GOOGLE_API_KEY')\n",
        "genai.configure(api_key=GOOGLE_API_KEY)\n",
        "\n",
        "# Verificando modelos disponiveis:\n",
        "for m in genai.list_models():\n",
        "  if 'generateContent' in m.supported_generation_methods:\n",
        "    print(m.name)"
      ],
      "metadata": {
        "colab": {
          "base_uri": "https://localhost:8080/",
          "height": 136
        },
        "id": "0Cth8NN85FJR",
        "outputId": "9cdfbd38-a63f-4ecd-ccb7-d1d8452b0a54"
      },
      "execution_count": 7,
      "outputs": [
        {
          "output_type": "stream",
          "name": "stdout",
          "text": [
            "models/gemini-1.0-pro\n",
            "models/gemini-1.0-pro-001\n",
            "models/gemini-1.0-pro-latest\n",
            "models/gemini-1.0-pro-vision-latest\n",
            "models/gemini-1.5-pro-latest\n",
            "models/gemini-pro\n",
            "models/gemini-pro-vision\n"
          ]
        }
      ]
    },
    {
      "cell_type": "code",
      "source": [
        "\n",
        "# Selecionando o Modelo:\n",
        "model = genai.GenerativeModel('gemini-1.0-pro')"
      ],
      "metadata": {
        "id": "_kDypbq85L9-"
      },
      "execution_count": 9,
      "outputs": []
    },
    {
      "cell_type": "code",
      "source": [
        "chat = model.start_chat(history=[])\n",
        "\n",
        "prompt = input(\"Ola como posso te ajudar hoje: \")\n",
        "while prompt != \"Sair\":\n",
        "  response = chat.send_message(prompt)\n",
        "  print(\"Resposta:\", response.text, \"\\n\")\n",
        "  prompt = input(\"Gostaria de fazer outra pergunta? Para encerrar, digite: Sair \")\n"
      ],
      "metadata": {
        "colab": {
          "base_uri": "https://localhost:8080/",
          "height": 1000
        },
        "id": "iz_OFW5o5TJ-",
        "outputId": "e27e8786-87c0-444d-e612-3ed26cf3b96c"
      },
      "execution_count": 11,
      "outputs": [
        {
          "name": "stdout",
          "output_type": "stream",
          "text": [
            "Ola como posso te ajudar hoje: Qual a capital do Brasil?\n",
            "Resposta: Brasília \n",
            "\n",
            "Gostaria de fazer outra pergunta? Para encerrar, digite: Sair Quantos estados tem o pais?\n",
            "Resposta: 26\n",
            "\n",
            "**Região Norte:**\n",
            "* Acre\n",
            "* Amazonas\n",
            "* Pará\n",
            "* Rondônia\n",
            "* Roraima\n",
            "* Tocantins\n",
            "\n",
            "**Região Nordeste:**\n",
            "* Alagoas\n",
            "* Bahia\n",
            "* Ceará\n",
            "* Maranhão\n",
            "* Paraíba\n",
            "* Pernambuco\n",
            "* Piauí\n",
            "* Rio Grande do Norte\n",
            "* Sergipe\n",
            "\n",
            "**Região Centro-Oeste:**\n",
            "* Distrito Federal\n",
            "* Goiás\n",
            "* Mato Grosso\n",
            "* Mato Grosso do Sul\n",
            "\n",
            "**Região Sudeste:**\n",
            "* Espírito Santo\n",
            "* Minas Gerais\n",
            "* Rio de Janeiro\n",
            "* São Paulo\n",
            "\n",
            "**Região Sul:**\n",
            "* Paraná\n",
            "* Rio Grande do Sul\n",
            "* Santa Catarina \n",
            "\n",
            "Gostaria de fazer outra pergunta? Para encerrar, digite: Sair Qual estado tem o maior PIB?\n",
            "Resposta: São Paulo\n",
            "\n",
            "**Estados com os maiores PIBs em 2023 (em bilhões de reais):**\n",
            "\n",
            "1. São Paulo - 1.491,0\n",
            "2. Rio de Janeiro - 679,4\n",
            "3. Minas Gerais - 515,2\n",
            "4. Rio Grande do Sul - 326,1\n",
            "5. Paraná - 488,4\n",
            "6. Santa Catarina - 313,9\n",
            "7. Bahia - 378,7\n",
            "8. Pernambuco - 222,1\n",
            "9. Ceará - 214,3\n",
            "10. Goiás - 172,2 \n",
            "\n",
            "Gostaria de fazer outra pergunta? Para encerrar, digite: Sair Sair\n"
          ]
        }
      ]
    }
  ]
}