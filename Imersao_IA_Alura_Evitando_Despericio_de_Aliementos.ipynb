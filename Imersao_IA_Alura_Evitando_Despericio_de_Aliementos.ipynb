{
  "nbformat": 4,
  "nbformat_minor": 0,
  "metadata": {
    "colab": {
      "provenance": [],
      "authorship_tag": "ABX9TyNt1vBC26o95nrhFbglLXKE",
      "include_colab_link": true
    },
    "kernelspec": {
      "name": "python3",
      "display_name": "Python 3"
    },
    "language_info": {
      "name": "python"
    }
  },
  "cells": [
    {
      "cell_type": "markdown",
      "metadata": {
        "id": "view-in-github",
        "colab_type": "text"
      },
      "source": [
        "<a href=\"https://colab.research.google.com/github/viscaino/Imersao_IA_Alura/blob/main/Imersao_IA_Alura_Evitando_Despericio_de_Aliementos.ipynb\" target=\"_parent\"><img src=\"https://colab.research.google.com/assets/colab-badge.svg\" alt=\"Open In Colab\"/></a>"
      ]
    },
    {
      "cell_type": "code",
      "source": [
        "# Instalando pacotes de\n",
        "pip install -q -U google-generativeai"
      ],
      "metadata": {
        "id": "r5QuxAKFZtzL"
      },
      "execution_count": null,
      "outputs": []
    },
    {
      "cell_type": "code",
      "source": [
        "import google.generativeai as genai\n",
        "\n",
        "#Configurando a API key:\n",
        "#IMPORTANTE: Neste código estamos utilizando\n",
        "#o userdata cadastrado no Google Colab.\n",
        "from google.colab import userdata\n",
        "\n",
        "GOOGLE_API_KEY=userdata.get('GOOGLE_API_KEY')\n",
        "genai.configure(api_key=GOOGLE_API_KEY)"
      ],
      "metadata": {
        "id": "ecrPPaXjZ5DC"
      },
      "execution_count": null,
      "outputs": []
    },
    {
      "cell_type": "code",
      "source": [
        "#Verificando modelos disponiveis:\n",
        "for m in genai.list_models():\n",
        "  if 'generateContent' in m.supported_generation_methods:\n",
        "    print(m.name)"
      ],
      "metadata": {
        "colab": {
          "base_uri": "https://localhost:8080/",
          "height": 136
        },
        "id": "XJqtpQl1emYp",
        "outputId": "7a60e5e9-fe92-47c2-9e04-0daf94103d58"
      },
      "execution_count": null,
      "outputs": [
        {
          "output_type": "stream",
          "name": "stdout",
          "text": [
            "models/gemini-1.0-pro\n",
            "models/gemini-1.0-pro-001\n",
            "models/gemini-1.0-pro-latest\n",
            "models/gemini-1.0-pro-vision-latest\n",
            "models/gemini-1.5-pro-latest\n",
            "models/gemini-pro\n",
            "models/gemini-pro-vision\n"
          ]
        }
      ]
    },
    {
      "cell_type": "code",
      "source": [
        "#Selecionando o Modelo:\n",
        "model = genai.GenerativeModel('gemini-1.0-pro')"
      ],
      "metadata": {
        "id": "D8TunJk5bQ5g"
      },
      "execution_count": null,
      "outputs": []
    },
    {
      "cell_type": "code",
      "source": [
        "#Aqui o interlocutor irá informar os ingredientes que não gostaria de desperiçar\n",
        "ingredientes = input(\"Vamos juntos evitar o desperdicio de alimentos!! \\b Informe quais ingredientes você tem para que possamos te indicar uma deliciosa receita: \")\n",
        "\n",
        "#Neste o Gemini irá recomendar uma receita\n",
        "response = model.generate_content(f\"informe uma receita contendo exclusivamente os ingredientes {ingredientes}, ao final sugira como incrementar a receita.\")\n",
        "print(response.text)\n"
      ],
      "metadata": {
        "colab": {
          "base_uri": "https://localhost:8080/",
          "height": 649
        },
        "id": "ln7NMStixhfn",
        "outputId": "3f096ddd-f273-488d-f568-2ac932103abc"
      },
      "execution_count": 8,
      "outputs": [
        {
          "output_type": "stream",
          "name": "stdout",
          "text": [
            "Vamos juntos evitar o desperdicio de alimentos!! \b Informe quais ingredientes você tem para que possamos te indicar uma deliciosa receita: Ovo, Farinha de trigo, Cenoura, Açúcar, Chocolate e leite\n",
            "**Bolo de Cenoura com Cobertura de Chocolate**\n",
            "\n",
            "**Ingredientes:**\n",
            "\n",
            "* 2 xícaras (chá) de farinha de trigo\n",
            "* 2 xícaras (chá) de açúcar refinado\n",
            "* 4 ovos\n",
            "* 1 xícara (chá) de leite\n",
            "* 2 cenouras médias raladas\n",
            "* 1/2 xícara (chá) de chocolate em pó\n",
            "\n",
            "**Cobertura de Chocolate:**\n",
            "\n",
            "* 1 xícara (chá) de leite\n",
            "* 1/2 xícara (chá) de chocolate em pó\n",
            "* 1 colher (sopa) de manteiga\n",
            "* 1/4 xícara (chá) de açúcar refinado\n",
            "\n",
            "**Modo de Preparo:**\n",
            "\n",
            "1. Bata os ovos com o açúcar até dobrar de volume.\n",
            "2. Adicione o leite e a farinha de trigo alternadamente, batendo até obter uma massa homogênea.\n",
            "3. Incorpore as cenouras raladas e o chocolate em pó.\n",
            "4. Unte e enfarinhe uma forma redonda (22 cm de diâmetro) e despeje a massa.\n",
            "5. Asse em forno preaquecido a 180°C por cerca de 40 minutos ou até dourar.\n",
            "6. Para a cobertura, misture o leite, o chocolate em pó, a manteiga e o açúcar em uma panela.\n",
            "7. Leve ao fogo baixo, mexendo sempre, até engrossar.\n",
            "8. Despeje a cobertura sobre o bolo frio.\n",
            "\n",
            "**Dicas para Incrementar a Receita:**\n",
            "\n",
            "* Adicione nozes ou passas à massa para um toque crocante e doce.\n",
            "* Prepare uma cobertura de cream cheese para um sabor mais refrescante.\n",
            "* Decore o bolo com cenouras de chocolate para uma apresentação divertida.\n",
            "* Sirva o bolo com sorvete de baunilha para uma sobremesa completa.\n"
          ]
        }
      ]
    }
  ]
}