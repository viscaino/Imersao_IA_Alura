{
  "nbformat": 4,
  "nbformat_minor": 0,
  "metadata": {
    "colab": {
      "provenance": [],
      "authorship_tag": "ABX9TyPuDgZ5dnE9F1QKH/9ppx22",
      "include_colab_link": true
    },
    "kernelspec": {
      "name": "python3",
      "display_name": "Python 3"
    },
    "language_info": {
      "name": "python"
    }
  },
  "cells": [
    {
      "cell_type": "markdown",
      "metadata": {
        "id": "view-in-github",
        "colab_type": "text"
      },
      "source": [
        "<a href=\"https://colab.research.google.com/github/viscaino/Imersao_IA_Alura/blob/main/Imersao_IA_Alura_Evitando_Despericio_de_Aliementos.ipynb\" target=\"_parent\"><img src=\"https://colab.research.google.com/assets/colab-badge.svg\" alt=\"Open In Colab\"/></a>"
      ]
    },
    {
      "cell_type": "code",
      "source": [
        "# Instalando pacotes de\n",
        "pip install -q -U google-generativeai"
      ],
      "metadata": {
        "id": "r5QuxAKFZtzL"
      },
      "execution_count": 6,
      "outputs": []
    },
    {
      "cell_type": "code",
      "source": [
        "import google.generativeai as genai\n",
        "\n",
        "#Configurando a API key:\n",
        "#IMPORTANTE: Neste código estamos utilizando\n",
        "#o userdata cadastrado no Google Colab.\n",
        "from google.colab import userdata\n",
        "\n",
        "GOOGLE_API_KEY=userdata.get('GOOGLE_API_KEY')\n",
        "genai.configure(api_key=GOOGLE_API_KEY)"
      ],
      "metadata": {
        "id": "ecrPPaXjZ5DC"
      },
      "execution_count": 2,
      "outputs": []
    },
    {
      "cell_type": "code",
      "source": [
        "#Verificando modelos disponiveis:\n",
        "for m in genai.list_models():\n",
        "  if 'generateContent' in m.supported_generation_methods:\n",
        "    print(m.name)"
      ],
      "metadata": {
        "colab": {
          "base_uri": "https://localhost:8080/",
          "height": 136
        },
        "id": "XJqtpQl1emYp",
        "outputId": "7a60e5e9-fe92-47c2-9e04-0daf94103d58"
      },
      "execution_count": 3,
      "outputs": [
        {
          "output_type": "stream",
          "name": "stdout",
          "text": [
            "models/gemini-1.0-pro\n",
            "models/gemini-1.0-pro-001\n",
            "models/gemini-1.0-pro-latest\n",
            "models/gemini-1.0-pro-vision-latest\n",
            "models/gemini-1.5-pro-latest\n",
            "models/gemini-pro\n",
            "models/gemini-pro-vision\n"
          ]
        }
      ]
    },
    {
      "cell_type": "code",
      "source": [
        "#Selecionando o Modelo:\n",
        "model = genai.GenerativeModel('gemini-1.0-pro')"
      ],
      "metadata": {
        "id": "D8TunJk5bQ5g"
      },
      "execution_count": 4,
      "outputs": []
    },
    {
      "cell_type": "code",
      "source": [
        "#Aqui o interlocutor irá informar os ingredientes que não gostaria de desperiçar\n",
        "ingredientes = input(\"Vamos juntos evitar o desperdicio de alimentos!! \\b Informe quais ingredientes você tem para que possamos te indicar uma deliciosa receita: \")\n",
        "\n",
        "#Neste o Gemini irá recomendar uma receita\n",
        "response = model.generate_content(f\"informe uma receita contendo exclusivamente os ingredientes {ingredientes}, ao final sugira como incrementar a receita\")\n",
        "print(response.text)\n"
      ],
      "metadata": {
        "colab": {
          "base_uri": "https://localhost:8080/",
          "height": 496
        },
        "id": "ln7NMStixhfn",
        "outputId": "b91719ec-c8fc-43c3-b8a9-d82db29697c0"
      },
      "execution_count": 5,
      "outputs": [
        {
          "output_type": "stream",
          "name": "stdout",
          "text": [
            "Vamos juntos evitar o desperdicio de alimentos!! \b Informe quais ingredientes você tem para que possamos te indicar uma deliciosa receita: Ovo, farinha, leite, açúcar, cenoura e chocolate\n",
            "**Bolo de Cenoura e Chocolate**\n",
            "\n",
            "**Ingredientes:**\n",
            "\n",
            "* 3 ovos\n",
            "* 1 xícara (chá) de farinha de trigo\n",
            "* 1 xícara (chá) de leite\n",
            "* 1 xícara (chá) de açúcar\n",
            "* 1 cenoura grande ralada\n",
            "* 1/2 xícara (chá) de chocolate em pó\n",
            "\n",
            "**Modo de Preparo:**\n",
            "\n",
            "1. Em uma tigela, bata os ovos até ficarem espumosos.\n",
            "2. Adicione gradualmente o açúcar, batendo sempre.\n",
            "3. Acrescente o leite e a farinha alternadamente, mexendo até obter uma massa homogênea.\n",
            "4. Misture a cenoura ralada e o chocolate em pó.\n",
            "5. Despeje a massa em uma forma untada e enfarinhada (20 cm x 30 cm).\n",
            "6. Asse em forno preaquecido a 180°C por cerca de 30-35 minutos, ou até que um palito inserido no centro saia limpo.\n",
            "\n",
            "**Como Incrementar a Receita:**\n",
            "\n",
            "* Adicione 1/2 xícara (chá) de nozes picadas à massa.\n",
            "* Espalhe uma cobertura de brigadeiro ou ganache sobre o bolo depois de assado.\n",
            "* Decore com raspas de chocolate ou cenouras de chocolate.\n",
            "* Sirva com sorvete ou chantilly para uma sobremesa ainda mais deliciosa.\n"
          ]
        }
      ]
    },
    {
      "cell_type": "code",
      "source": [
        "chat = model.start_chat(history=[])"
      ],
      "metadata": {
        "id": "rg6QxmbX01Ts"
      },
      "execution_count": null,
      "outputs": []
    },
    {
      "cell_type": "code",
      "source": [
        "\n",
        "prompt = input(\"Ola como posso te ajudar hoje: \")\n",
        "while prompt != \"Sair\":\n",
        "  response = chat.send_message(prompt)\n",
        "  print(\"Resposta:\", response.text, \"\\n\")\n",
        "  prompt = input(\"Gostaria de fazer outra pergunta? Para encerrar, digite: Sair \")"
      ],
      "metadata": {
        "colab": {
          "base_uri": "https://localhost:8080/",
          "height": 105
        },
        "id": "LUi8cIKkkSw8",
        "outputId": "1d1b0dce-9c8b-468f-8360-2be6576787af"
      },
      "execution_count": 42,
      "outputs": [
        {
          "output_type": "error",
          "ename": "SyntaxError",
          "evalue": "expected ':' (<ipython-input-42-9676aa834e02>, line 5)",
          "traceback": [
            "\u001b[0;36m  File \u001b[0;32m\"<ipython-input-42-9676aa834e02>\"\u001b[0;36m, line \u001b[0;32m5\u001b[0m\n\u001b[0;31m    while conversa != \"Sair\"\u001b[0m\n\u001b[0m                            ^\u001b[0m\n\u001b[0;31mSyntaxError\u001b[0m\u001b[0;31m:\u001b[0m expected ':'\n"
          ]
        }
      ]
    },
    {
      "cell_type": "code",
      "source": [],
      "metadata": {
        "id": "WO6tGSLNv9HB"
      },
      "execution_count": null,
      "outputs": []
    }
  ]
}